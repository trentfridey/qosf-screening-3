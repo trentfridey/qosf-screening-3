{
 "metadata": {
  "language_info": {
   "codemirror_mode": {
    "name": "ipython",
    "version": 3
   },
   "file_extension": ".py",
   "mimetype": "text/x-python",
   "name": "python",
   "nbconvert_exporter": "python",
   "pygments_lexer": "ipython3",
   "version": "3.7.7"
  },
  "orig_nbformat": 2,
  "kernelspec": {
   "name": "python3",
   "display_name": "Python 3.7.7 64-bit",
   "metadata": {
    "interpreter": {
     "hash": "1c2bfc845db8bd7ad145966a93e0b1663d8db0772251f92ee85661f18a496b6b"
    }
   }
  }
 },
 "nbformat": 4,
 "nbformat_minor": 2,
 "cells": [
  {
   "source": [
    "# Task 2\n",
    "\n",
    "In this notebook, we prepare and train a variational circuit that transforms four 4-qubit input states $(|\\phi_1\\rangle, |\\phi_2\\rangle, |\\phi_3\\rangle, |\\phi_4\\rangle)$ into predefined output states:\n",
    "\n",
    "$$\n",
    "|\\phi_1\\rangle \\rightarrow |0011\\rangle  \\\\\n",
    "|\\phi_2\\rangle \\rightarrow |0101\\rangle \\\\\n",
    "|\\phi_3\\rangle \\rightarrow |1010\\rangle  \\\\\n",
    "|\\phi_4\\rangle \\rightarrow |1100\\rangle \\\\\n",
    "$$\n",
    "\n",
    "For the variational circuit, we use an alternating operator ansatz, with the odd layers composed of $U3$ gates and the even layers composed of $XX(\\varphi)$ gates"
   ],
   "cell_type": "markdown",
   "metadata": {}
  },
  {
   "cell_type": "code",
   "execution_count": 2,
   "metadata": {},
   "outputs": [],
   "source": [
    "import pennylane as qml\n",
    "from pennylane import numpy as np"
   ]
  },
  {
   "cell_type": "code",
   "execution_count": 3,
   "metadata": {},
   "outputs": [],
   "source": [
    "num_qubits = 4\n",
    "\n",
    "dev1 = qml.device(\"default.qubit\", wires=num_qubits)"
   ]
  },
  {
   "cell_type": "code",
   "execution_count": 4,
   "metadata": {},
   "outputs": [],
   "source": [
    "def odd_layer(params):\n",
    "    qml.U3(params[0:3], wires=0)\n",
    "    qml.U3(params[3:6], wires=1)\n",
    "    qml.U3(params[6:9], wires=2)\n",
    "    qml.U3(params[9:12], wires=3)"
   ]
  },
  {
   "cell_type": "code",
   "execution_count": 5,
   "metadata": {},
   "outputs": [],
   "source": [
    "def even_layer(params):\n",
    "    for q1 in range(4):\n",
    "        for q2 in range(q1,4):\n",
    "            qml.IsingXX(params[q1+q2],wires=[q1,q2])"
   ]
  },
  {
   "cell_type": "code",
   "execution_count": 6,
   "metadata": {},
   "outputs": [],
   "source": [
    "def layer(params):\n",
    "    even_layer(params[0:6])\n",
    "    odd_layer(params[6:18])"
   ]
  },
  {
   "cell_type": "code",
   "execution_count": 7,
   "metadata": {},
   "outputs": [],
   "source": [
    "def cost_fn():\n",
    "    # <psi|psi0>(cost for |1100>)"
   ]
  },
  {
   "cell_type": "code",
   "execution_count": null,
   "metadata": {},
   "outputs": [],
   "source": [
    "def init_input(state_idx):\n",
    "    "
   ]
  },
  {
   "cell_type": "code",
   "execution_count": null,
   "metadata": {},
   "outputs": [],
   "source": [
    "n_layers = 3\n",
    "\n",
    "@qml.qnode\n",
    "def circuit(params):\n",
    "    init_input()\n",
    "    for layer in range(n_layers):\n",
    "        layer(params[18*layer:18*(layer+1)])\n",
    "    return cost_fn()"
   ]
  }
 ]
}